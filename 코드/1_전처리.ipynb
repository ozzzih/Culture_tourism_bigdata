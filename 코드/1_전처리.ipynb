{
 "cells": [
  {
   "cell_type": "code",
   "execution_count": 4,
   "metadata": {},
   "outputs": [
    {
     "name": "stdout",
     "output_type": "stream",
     "text": [
      "30\n",
      "국적|가맹시|가맹구|GB3|GB2|TA_YM|DAW_CCD_R|APV_TS_DL_TM_R|VLM|USEC\n",
      "\n",
      "독일|부산|남구|음식|한식외|202107|WHITE|휴식|28100|2\n",
      "\n",
      "독일|울산|남구|교통|기타|202106|WHITE|활동|40000|1\n",
      "\n",
      "일본|부산|남구|의료|치과병원|202206|WHITE|활동|20400|1\n",
      "\n",
      "미국|광주|남구|쇼핑|기타지출|202205|WHITE|활동|25000|1\n",
      "\n",
      "캐나다|대구|남구|쇼핑|기타쇼핑|202204|WHITE|활동|151970|1\n",
      "\n",
      "아랍에미레이트|부산|남구|음식|음료제과|202305|RED|휴식|19200|1\n",
      "\n",
      "미국|울산|남구|스포츠|스포츠센타/레포츠클럽|202012|RED|휴식|68000|3\n",
      "\n",
      "프랑스|부산|남구|쇼핑|가전전자제품|202110|RED|휴식|22010|2\n",
      "\n",
      "홍콩|울산|남구|숙박|1급2급호텔|202203|WHITE|활동|160308|2\n",
      "\n",
      "러시아|부산|남구|음식|한식|202012|RED|활동|45000|2\n",
      "\n",
      "오스트레일리아|광주|남구|음식|한식외|202008|WHITE|활동|34000|1\n",
      "\n",
      "오스트레일리아|광주|남구|쇼핑|할인점/편의점|202009|WHITE|활동|108490|6\n",
      "\n",
      "대만|부산|남구|음식|한식|202109|RED|휴식|34000|2\n",
      "\n",
      "미국|대구|남구|체험|목욕시설|202305|RED|휴식|213000|2\n",
      "\n",
      "미국|울산|남구|쇼핑|가전전자제품|202106|WHITE|활동|9000|1\n",
      "\n",
      "일본|대구|남구|음식|한식외|202207|RED|휴식|31000|1\n",
      "\n",
      "독일|울산|남구|음식|음료제과|202208|WHITE|활동|42150|4\n",
      "\n",
      "일본|부산|남구|의료|종합병원|202101|WHITE|활동|740420|2\n",
      "\n",
      "싱가폴|부산|남구|음식|음료제과|202104|RED|휴식|5200|1\n",
      "\n",
      "말레이지아|울산|남구|음식|한식외|202104|RED|활동|79000|2\n",
      "\n",
      "싱가폴|대구|남구|음식|한식|202109|WHITE|활동|66000|2\n",
      "\n",
      "인도네시아|부산|남구|음식|한식|202112|WHITE|휴식|134940|4\n",
      "\n",
      "미국|대구|남구|쇼핑|화장품|202209|RED|활동|79900|1\n",
      "\n",
      "필리핀|부산|남구|숙박|그외숙박|202210|WHITE|활동|1409760|3\n",
      "\n",
      "아랍에미레이트|울산|남구|쇼핑|할인점/편의점|202205|RED|취침|12000|1\n",
      "\n",
      "프랑스|광주|남구|음식|한식외|202104|RED|취침|28800|3\n",
      "\n",
      "프랑스|대구|남구|쇼핑|의류잡화|202209|RED|활동|2650|1\n",
      "\n",
      "프랑스|부산|남구|쇼핑|기타지출|202212|RED|활동|625500|4\n",
      "\n",
      "중국|울산|남구|숙박|1급2급호텔|202212|WHITE|휴식|417813|2\n",
      "\n"
     ]
    }
   ],
   "source": [
    "N = 30\n",
    "with open('2023년 문화관광 데이터 분석대회(카드데이터_외국인).txt', encoding='utf-8') as myfile:\n",
    "    head = [next(myfile) for x in range(N)]\n",
    "print(len(head))\n",
    "for l in head:\n",
    "    print(l)"
   ]
  },
  {
   "cell_type": "code",
   "execution_count": 1,
   "metadata": {},
   "outputs": [],
   "source": [
    "import pandas as pd\n",
    "data=pd.read_csv('2023년 문화관광 데이터 분석대회(카드데이터_외국인).txt', sep=\"|\")"
   ]
  },
  {
   "cell_type": "code",
   "execution_count": 3,
   "metadata": {},
   "outputs": [
    {
     "data": {
      "text/html": [
       "<div>\n",
       "<style scoped>\n",
       "    .dataframe tbody tr th:only-of-type {\n",
       "        vertical-align: middle;\n",
       "    }\n",
       "\n",
       "    .dataframe tbody tr th {\n",
       "        vertical-align: top;\n",
       "    }\n",
       "\n",
       "    .dataframe thead th {\n",
       "        text-align: right;\n",
       "    }\n",
       "</style>\n",
       "<table border=\"1\" class=\"dataframe\">\n",
       "  <thead>\n",
       "    <tr style=\"text-align: right;\">\n",
       "      <th></th>\n",
       "      <th>국적</th>\n",
       "      <th>가맹시</th>\n",
       "      <th>가맹구</th>\n",
       "      <th>GB3</th>\n",
       "      <th>GB2</th>\n",
       "      <th>TA_YM</th>\n",
       "      <th>DAW_CCD_R</th>\n",
       "      <th>APV_TS_DL_TM_R</th>\n",
       "      <th>VLM</th>\n",
       "      <th>USEC</th>\n",
       "    </tr>\n",
       "  </thead>\n",
       "  <tbody>\n",
       "    <tr>\n",
       "      <th>0</th>\n",
       "      <td>독일</td>\n",
       "      <td>부산</td>\n",
       "      <td>남구</td>\n",
       "      <td>음식</td>\n",
       "      <td>한식외</td>\n",
       "      <td>202107</td>\n",
       "      <td>WHITE</td>\n",
       "      <td>휴식</td>\n",
       "      <td>28100</td>\n",
       "      <td>2</td>\n",
       "    </tr>\n",
       "    <tr>\n",
       "      <th>1</th>\n",
       "      <td>독일</td>\n",
       "      <td>울산</td>\n",
       "      <td>남구</td>\n",
       "      <td>교통</td>\n",
       "      <td>기타</td>\n",
       "      <td>202106</td>\n",
       "      <td>WHITE</td>\n",
       "      <td>활동</td>\n",
       "      <td>40000</td>\n",
       "      <td>1</td>\n",
       "    </tr>\n",
       "    <tr>\n",
       "      <th>2</th>\n",
       "      <td>일본</td>\n",
       "      <td>부산</td>\n",
       "      <td>남구</td>\n",
       "      <td>의료</td>\n",
       "      <td>치과병원</td>\n",
       "      <td>202206</td>\n",
       "      <td>WHITE</td>\n",
       "      <td>활동</td>\n",
       "      <td>20400</td>\n",
       "      <td>1</td>\n",
       "    </tr>\n",
       "    <tr>\n",
       "      <th>3</th>\n",
       "      <td>미국</td>\n",
       "      <td>광주</td>\n",
       "      <td>남구</td>\n",
       "      <td>쇼핑</td>\n",
       "      <td>기타지출</td>\n",
       "      <td>202205</td>\n",
       "      <td>WHITE</td>\n",
       "      <td>활동</td>\n",
       "      <td>25000</td>\n",
       "      <td>1</td>\n",
       "    </tr>\n",
       "    <tr>\n",
       "      <th>4</th>\n",
       "      <td>캐나다</td>\n",
       "      <td>대구</td>\n",
       "      <td>남구</td>\n",
       "      <td>쇼핑</td>\n",
       "      <td>기타쇼핑</td>\n",
       "      <td>202204</td>\n",
       "      <td>WHITE</td>\n",
       "      <td>활동</td>\n",
       "      <td>151970</td>\n",
       "      <td>1</td>\n",
       "    </tr>\n",
       "  </tbody>\n",
       "</table>\n",
       "</div>"
      ],
      "text/plain": [
       "    국적 가맹시 가맹구 GB3   GB2   TA_YM DAW_CCD_R APV_TS_DL_TM_R     VLM  USEC\n",
       "0   독일  부산  남구  음식   한식외  202107     WHITE             휴식   28100     2\n",
       "1   독일  울산  남구  교통    기타  202106     WHITE             활동   40000     1\n",
       "2   일본  부산  남구  의료  치과병원  202206     WHITE             활동   20400     1\n",
       "3   미국  광주  남구  쇼핑  기타지출  202205     WHITE             활동   25000     1\n",
       "4  캐나다  대구  남구  쇼핑  기타쇼핑  202204     WHITE             활동  151970     1"
      ]
     },
     "execution_count": 3,
     "metadata": {},
     "output_type": "execute_result"
    }
   ],
   "source": [
    "data.head()"
   ]
  },
  {
   "cell_type": "code",
   "execution_count": 4,
   "metadata": {},
   "outputs": [],
   "source": [
    "d=pd.read_csv('시구별_(최대)취급액&월_교통삭제.csv')"
   ]
  },
  {
   "cell_type": "code",
   "execution_count": 5,
   "metadata": {},
   "outputs": [
    {
     "data": {
      "text/html": [
       "<div>\n",
       "<style scoped>\n",
       "    .dataframe tbody tr th:only-of-type {\n",
       "        vertical-align: middle;\n",
       "    }\n",
       "\n",
       "    .dataframe tbody tr th {\n",
       "        vertical-align: top;\n",
       "    }\n",
       "\n",
       "    .dataframe thead th {\n",
       "        text-align: right;\n",
       "    }\n",
       "</style>\n",
       "<table border=\"1\" class=\"dataframe\">\n",
       "  <thead>\n",
       "    <tr style=\"text-align: right;\">\n",
       "      <th></th>\n",
       "      <th>시구</th>\n",
       "      <th>TA_YM</th>\n",
       "      <th>VLM</th>\n",
       "    </tr>\n",
       "  </thead>\n",
       "  <tbody>\n",
       "    <tr>\n",
       "      <th>0</th>\n",
       "      <td>강원 강릉시</td>\n",
       "      <td>202208</td>\n",
       "      <td>2397701491</td>\n",
       "    </tr>\n",
       "    <tr>\n",
       "      <th>1</th>\n",
       "      <td>강원 고성군</td>\n",
       "      <td>202208</td>\n",
       "      <td>419405185</td>\n",
       "    </tr>\n",
       "    <tr>\n",
       "      <th>2</th>\n",
       "      <td>강원 동해시</td>\n",
       "      <td>202306</td>\n",
       "      <td>143136345</td>\n",
       "    </tr>\n",
       "    <tr>\n",
       "      <th>3</th>\n",
       "      <td>강원 삼척시</td>\n",
       "      <td>202306</td>\n",
       "      <td>109318358</td>\n",
       "    </tr>\n",
       "    <tr>\n",
       "      <th>4</th>\n",
       "      <td>강원 속초시</td>\n",
       "      <td>202208</td>\n",
       "      <td>2995933899</td>\n",
       "    </tr>\n",
       "  </tbody>\n",
       "</table>\n",
       "</div>"
      ],
      "text/plain": [
       "       시구   TA_YM         VLM\n",
       "0  강원 강릉시  202208  2397701491\n",
       "1  강원 고성군  202208   419405185\n",
       "2  강원 동해시  202306   143136345\n",
       "3  강원 삼척시  202306   109318358\n",
       "4  강원 속초시  202208  2995933899"
      ]
     },
     "execution_count": 5,
     "metadata": {},
     "output_type": "execute_result"
    }
   ],
   "source": [
    "d.head()"
   ]
  },
  {
   "cell_type": "code",
   "execution_count": 32,
   "metadata": {},
   "outputs": [],
   "source": [
    "df=data[data['GB3']!=\"교통\"]"
   ]
  },
  {
   "cell_type": "code",
   "execution_count": 33,
   "metadata": {},
   "outputs": [
    {
     "name": "stderr",
     "output_type": "stream",
     "text": [
      "C:\\Users\\ohke7\\AppData\\Local\\Temp\\ipykernel_1164\\689478388.py:1: SettingWithCopyWarning: \n",
      "A value is trying to be set on a copy of a slice from a DataFrame.\n",
      "Try using .loc[row_indexer,col_indexer] = value instead\n",
      "\n",
      "See the caveats in the documentation: https://pandas.pydata.org/pandas-docs/stable/user_guide/indexing.html#returning-a-view-versus-a-copy\n",
      "  df[\"Full Name\"] = df[\"가맹시\"] + \" \" + df[\"가맹구\"]\n"
     ]
    }
   ],
   "source": [
    "df[\"Full Name\"] = df[\"가맹시\"] + \" \" + df[\"가맹구\"]\n"
   ]
  },
  {
   "cell_type": "code",
   "execution_count": 48,
   "metadata": {},
   "outputs": [
    {
     "data": {
      "text/plain": [
       "{'인천 남구'}"
      ]
     },
     "execution_count": 48,
     "metadata": {},
     "output_type": "execute_result"
    }
   ],
   "source": [
    "set(df[\"Full Name\"])-set(d[\"Full Name\"])"
   ]
  },
  {
   "cell_type": "code",
   "execution_count": 47,
   "metadata": {},
   "outputs": [],
   "source": [
    "d=df[df['TA_YM']==202306]\n",
    "a=d.groupby(['Full Name']).sum()"
   ]
  },
  {
   "cell_type": "code",
   "execution_count": 39,
   "metadata": {},
   "outputs": [],
   "source": [
    "a=a.drop(columns=['TA_YM','USEC'])"
   ]
  },
  {
   "cell_type": "code",
   "execution_count": 40,
   "metadata": {},
   "outputs": [],
   "source": [
    "a.to_csv(\"202306매출.csv\", encoding='cp949')"
   ]
  },
  {
   "cell_type": "code",
   "execution_count": 41,
   "metadata": {},
   "outputs": [
    {
     "data": {
      "text/html": [
       "<div>\n",
       "<style scoped>\n",
       "    .dataframe tbody tr th:only-of-type {\n",
       "        vertical-align: middle;\n",
       "    }\n",
       "\n",
       "    .dataframe tbody tr th {\n",
       "        vertical-align: top;\n",
       "    }\n",
       "\n",
       "    .dataframe thead th {\n",
       "        text-align: right;\n",
       "    }\n",
       "</style>\n",
       "<table border=\"1\" class=\"dataframe\">\n",
       "  <thead>\n",
       "    <tr style=\"text-align: right;\">\n",
       "      <th></th>\n",
       "      <th>VLM</th>\n",
       "    </tr>\n",
       "    <tr>\n",
       "      <th>Full Name</th>\n",
       "      <th></th>\n",
       "    </tr>\n",
       "  </thead>\n",
       "  <tbody>\n",
       "    <tr>\n",
       "      <th>강원 강릉시</th>\n",
       "      <td>1528779515</td>\n",
       "    </tr>\n",
       "    <tr>\n",
       "      <th>강원 고성군</th>\n",
       "      <td>392757178</td>\n",
       "    </tr>\n",
       "    <tr>\n",
       "      <th>강원 동해시</th>\n",
       "      <td>143136345</td>\n",
       "    </tr>\n",
       "    <tr>\n",
       "      <th>강원 삼척시</th>\n",
       "      <td>109318358</td>\n",
       "    </tr>\n",
       "    <tr>\n",
       "      <th>강원 속초시</th>\n",
       "      <td>1774428587</td>\n",
       "    </tr>\n",
       "    <tr>\n",
       "      <th>...</th>\n",
       "      <td>...</td>\n",
       "    </tr>\n",
       "    <tr>\n",
       "      <th>충북 제천시</th>\n",
       "      <td>103120342</td>\n",
       "    </tr>\n",
       "    <tr>\n",
       "      <th>충북 증평군</th>\n",
       "      <td>22836241</td>\n",
       "    </tr>\n",
       "    <tr>\n",
       "      <th>충북 진천군</th>\n",
       "      <td>107160525</td>\n",
       "    </tr>\n",
       "    <tr>\n",
       "      <th>충북 청주시</th>\n",
       "      <td>1314005549</td>\n",
       "    </tr>\n",
       "    <tr>\n",
       "      <th>충북 충주시</th>\n",
       "      <td>267343436</td>\n",
       "    </tr>\n",
       "  </tbody>\n",
       "</table>\n",
       "<p>229 rows × 1 columns</p>\n",
       "</div>"
      ],
      "text/plain": [
       "                  VLM\n",
       "Full Name            \n",
       "강원 강릉시     1528779515\n",
       "강원 고성군      392757178\n",
       "강원 동해시      143136345\n",
       "강원 삼척시      109318358\n",
       "강원 속초시     1774428587\n",
       "...               ...\n",
       "충북 제천시      103120342\n",
       "충북 증평군       22836241\n",
       "충북 진천군      107160525\n",
       "충북 청주시     1314005549\n",
       "충북 충주시      267343436\n",
       "\n",
       "[229 rows x 1 columns]"
      ]
     },
     "execution_count": 41,
     "metadata": {},
     "output_type": "execute_result"
    }
   ],
   "source": [
    "a"
   ]
  },
  {
   "cell_type": "code",
   "execution_count": 55,
   "metadata": {},
   "outputs": [],
   "source": [
    "d=data[(data['가맹시']=='인천')&(data['가맹구']=='남구')]"
   ]
  },
  {
   "cell_type": "code",
   "execution_count": 56,
   "metadata": {},
   "outputs": [],
   "source": [
    "d=d[d['TA_YM']==202306]"
   ]
  },
  {
   "cell_type": "code",
   "execution_count": 57,
   "metadata": {},
   "outputs": [],
   "source": [
    "a=d.groupby(['GB3'])"
   ]
  },
  {
   "cell_type": "code",
   "execution_count": 58,
   "metadata": {},
   "outputs": [],
   "source": [
    "a=a.sum()"
   ]
  },
  {
   "cell_type": "code",
   "execution_count": 19,
   "metadata": {},
   "outputs": [
    {
     "data": {
      "text/plain": [
       "<pandas.core.groupby.generic.DataFrameGroupBy object at 0x0000022424CAAD60>"
      ]
     },
     "execution_count": 19,
     "metadata": {},
     "output_type": "execute_result"
    }
   ],
   "source": [
    "a"
   ]
  },
  {
   "cell_type": "code",
   "execution_count": 59,
   "metadata": {},
   "outputs": [
    {
     "data": {
      "text/html": [
       "<div>\n",
       "<style scoped>\n",
       "    .dataframe tbody tr th:only-of-type {\n",
       "        vertical-align: middle;\n",
       "    }\n",
       "\n",
       "    .dataframe tbody tr th {\n",
       "        vertical-align: top;\n",
       "    }\n",
       "\n",
       "    .dataframe thead th {\n",
       "        text-align: right;\n",
       "    }\n",
       "</style>\n",
       "<table border=\"1\" class=\"dataframe\">\n",
       "  <thead>\n",
       "    <tr style=\"text-align: right;\">\n",
       "      <th></th>\n",
       "      <th>VLM</th>\n",
       "      <th>USEC</th>\n",
       "    </tr>\n",
       "    <tr>\n",
       "      <th>GB3</th>\n",
       "      <th></th>\n",
       "      <th></th>\n",
       "    </tr>\n",
       "  </thead>\n",
       "  <tbody>\n",
       "  </tbody>\n",
       "</table>\n",
       "</div>"
      ],
      "text/plain": [
       "Empty DataFrame\n",
       "Columns: [VLM, USEC]\n",
       "Index: []"
      ]
     },
     "execution_count": 59,
     "metadata": {},
     "output_type": "execute_result"
    }
   ],
   "source": [
    "a.drop(columns=['TA_YM'])"
   ]
  },
  {
   "cell_type": "code",
   "execution_count": null,
   "metadata": {},
   "outputs": [],
   "source": [
    "pd.read_csv(\"버스정류장개수\")"
   ]
  }
 ],
 "metadata": {
  "kernelspec": {
   "display_name": "base",
   "language": "python",
   "name": "python3"
  },
  "language_info": {
   "codemirror_mode": {
    "name": "ipython",
    "version": 3
   },
   "file_extension": ".py",
   "mimetype": "text/x-python",
   "name": "python",
   "nbconvert_exporter": "python",
   "pygments_lexer": "ipython3",
   "version": "3.9.16"
  },
  "orig_nbformat": 4
 },
 "nbformat": 4,
 "nbformat_minor": 2
}
